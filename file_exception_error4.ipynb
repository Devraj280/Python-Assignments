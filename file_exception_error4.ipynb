{
  "nbformat": 4,
  "nbformat_minor": 0,
  "metadata": {
    "colab": {
      "provenance": [],
      "authorship_tag": "ABX9TyPH7pZzO+PNabXOmMv35pMD",
      "include_colab_link": true
    },
    "kernelspec": {
      "name": "python3",
      "display_name": "Python 3"
    },
    "language_info": {
      "name": "python"
    }
  },
  "cells": [
    {
      "cell_type": "markdown",
      "metadata": {
        "id": "view-in-github",
        "colab_type": "text"
      },
      "source": [
        "<a href=\"https://colab.research.google.com/github/Devraj280/Python-Assignments/blob/main/file_exception_error4.ipynb\" target=\"_parent\"><img src=\"https://colab.research.google.com/assets/colab-badge.svg\" alt=\"Open In Colab\"/></a>"
      ]
    },
    {
      "cell_type": "markdown",
      "source": [
        "# **Open Sample.txt and check**\n",
        "\n"
      ],
      "metadata": {
        "id": "_rIuK8UOFnus"
      }
    },
    {
      "cell_type": "code",
      "execution_count": null,
      "metadata": {
        "colab": {
          "base_uri": "https://localhost:8080/"
        },
        "id": "ZrX_U1vBr2rs",
        "outputId": "159aaae0-f7fd-4079-f6f4-df5b732cd869"
      },
      "outputs": [
        {
          "output_type": "stream",
          "name": "stdout",
          "text": [
            "Reading file content:\n",
            "Line1: Hello Guys,\n",
            "Line2: This is Text File!\n"
          ]
        }
      ],
      "source": [
        "filename = \"sample.txt\"\n",
        "try:\n",
        "    with open('sample.txt', 'r') as file:\n",
        "        print(\"Reading file content:\")\n",
        "        print(f\"Line1: {file.readline().strip()}\")\n",
        "        print(f\"Line2: {file.readline().strip()}\")\n",
        "except FileNotFoundError:\n",
        "    print(f\"Error: the file 'sample.txt' was not found\")"
      ]
    },
    {
      "cell_type": "markdown",
      "source": [
        "# **Write and Append to output.txt**"
      ],
      "metadata": {
        "id": "UGnJGcAkK2n8"
      }
    },
    {
      "cell_type": "code",
      "source": [
        "filename = \"output.txt\"\n",
        "write1 = input(\"Enter text to write to the file: \")\n",
        "try:\n",
        "    with open(filename, 'w') as file:\n",
        "        file.write(write1 + \"\\n\")\n",
        "    print(f\"Data successfully written to {filename}.\")\n",
        "except Exception as e:\n",
        "    print(\"Error writing to file:\", e)\n",
        "\n",
        "append1 = input(\"\\nEnter additional text to append: \")\n",
        "try:\n",
        "    with open(filename, 'a') as file:\n",
        "        file.write(append1 + \"\\n\")\n",
        "    print(\"Data successfully appended.\")\n",
        "except Exception as e:\n",
        "    print(\"Error appending to file:\", e)\n",
        "\n",
        "try:\n",
        "    print(f\"\\nFinal content of {filename}:\")\n",
        "    with open(filename, 'r') as file:\n",
        "        for line in file:\n",
        "            print(line.strip())\n",
        "except Exception as e:\n",
        "    print(\"Error reading file:\", e)\n"
      ],
      "metadata": {
        "colab": {
          "base_uri": "https://localhost:8080/"
        },
        "id": "TtYT2tSUF6Ch",
        "outputId": "fd9096d5-42ab-4ed6-e1e5-53f5e6331d62"
      },
      "execution_count": null,
      "outputs": [
        {
          "output_type": "stream",
          "name": "stdout",
          "text": [
            "Enter text to write to the file: Hello! Python.\n",
            "Data successfully written to output.txt.\n",
            "\n",
            "Enter additional text to append: I am learning from TuteDude\n",
            "Data successfully appended.\n",
            "\n",
            "Final content of output.txt:\n",
            "Hello! Python.\n",
            "I am learning from TuteDude\n"
          ]
        }
      ]
    },
    {
      "cell_type": "code",
      "source": [],
      "metadata": {
        "id": "EtoDp-P7JgL2"
      },
      "execution_count": null,
      "outputs": []
    }
  ]
}