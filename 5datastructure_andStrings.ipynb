{
  "nbformat": 4,
  "nbformat_minor": 0,
  "metadata": {
    "colab": {
      "provenance": [],
      "authorship_tag": "ABX9TyM7sKualhBB8q+FR6XtvPiC",
      "include_colab_link": true
    },
    "kernelspec": {
      "name": "python3",
      "display_name": "Python 3"
    },
    "language_info": {
      "name": "python"
    }
  },
  "cells": [
    {
      "cell_type": "markdown",
      "metadata": {
        "id": "view-in-github",
        "colab_type": "text"
      },
      "source": [
        "<a href=\"https://colab.research.google.com/github/Devraj280/Python-Assignments/blob/main/5datastructure_andStrings.ipynb\" target=\"_parent\"><img src=\"https://colab.research.google.com/assets/colab-badge.svg\" alt=\"Open In Colab\"/></a>"
      ]
    },
    {
      "cell_type": "markdown",
      "source": [
        "## ASSIGNMENT 5:\n",
        "**Module6:** Data Structures and Strings in Python\n",
        "\n"
      ],
      "metadata": {
        "id": "r0O-iZmHjK_C"
      }
    },
    {
      "cell_type": "markdown",
      "source": [
        "**Task1:**  Create a Dictionary of Student Marks\n",
        "Problem Statement: Write a Python program that:\n",
        "1.   Creates a dictionary where student names are keys and their marks are values.\n",
        "2.   Asks the user to input a student's name.\n",
        "3.   Retrieves and displays the corresponding marks.\n",
        "4.   If the student’s name is not found, display an appropriate message.\n"
      ],
      "metadata": {
        "id": "Xgqsl0yyjQYy"
      }
    },
    {
      "cell_type": "code",
      "source": [
        "dict1={\n",
        "        \"Devraj\":90,\n",
        "        \"Peter\":99,\n",
        "        \"Parker\":100,\n",
        "        \"Raj\":88\n",
        "    }\n",
        "type(dict1)"
      ],
      "metadata": {
        "colab": {
          "base_uri": "https://localhost:8080/"
        },
        "id": "fJ8k11XGjO1n",
        "outputId": "57c58e78-ba25-43b2-a1e6-08db792838c1"
      },
      "execution_count": 2,
      "outputs": [
        {
          "output_type": "execute_result",
          "data": {
            "text/plain": [
              "dict"
            ]
          },
          "metadata": {},
          "execution_count": 2
        }
      ]
    },
    {
      "cell_type": "code",
      "source": [
        "input1=input(\"Enter the name of the student:\")\n",
        "if input1 in dict1:\n",
        "    print(f\"{input1}'s marks is: {dict1[input1]}\") #its case sensitive\n",
        "else:\n",
        "    print(\"Student not found\")"
      ],
      "metadata": {
        "colab": {
          "base_uri": "https://localhost:8080/"
        },
        "id": "tmt8wE4ukJD2",
        "outputId": "67c7684b-1702-412c-f37c-e33da7aa8178"
      },
      "execution_count": 8,
      "outputs": [
        {
          "output_type": "stream",
          "name": "stdout",
          "text": [
            "Enter the name of the student:Devraj\n",
            "Devraj's marks is: 90\n"
          ]
        }
      ]
    },
    {
      "cell_type": "markdown",
      "source": [
        "**Task2:** Demonstrate List Slicing\n",
        "Problem Statement: Write a Python program that:\n",
        "1.   Creates a list of numbers from 1 to 10.\n",
        "2.   Extracts the first five elements from the list.\n",
        "3.   Reverses these extracted elements.\n",
        "4.   Prints both the extracted list and the reversed list\n",
        "\n"
      ],
      "metadata": {
        "id": "rR9pDn1RlFfc"
      }
    },
    {
      "cell_type": "code",
      "source": [
        "lt1=[1,2,3,4,5,6,7,8,9,10]\n",
        "#first5\n",
        "print(f\"First 5 {lt1[0:5]}\")\n",
        "\n",
        "#reverse-first5\n",
        "print(f\"Reversed first5 {lt1[4::-1]}\")\n",
        "\n",
        "print(f\"Reversed first5 {lt1[4::-1]}\",f\"\\nReversed List: {lt1[::-1]}\")"
      ],
      "metadata": {
        "colab": {
          "base_uri": "https://localhost:8080/"
        },
        "id": "CnObT0eLkcON",
        "outputId": "70a2eec5-277d-4394-ca55-1f57514f1afa"
      },
      "execution_count": 27,
      "outputs": [
        {
          "output_type": "stream",
          "name": "stdout",
          "text": [
            "First 5 [1, 2, 3, 4, 5]\n",
            "Reversed first5 [5, 4, 3, 2, 1]\n",
            "Reversed first5 [5, 4, 3, 2, 1] \n",
            "Reversed List: [10, 9, 8, 7, 6, 5, 4, 3, 2, 1]\n"
          ]
        }
      ]
    }
  ]
}